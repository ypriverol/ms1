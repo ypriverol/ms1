{
 "cells": [
  {
   "cell_type": "markdown",
   "metadata": {},
   "source": [
    "### Analysis of Plasma proteomes based on MS1 and MS2 information\n",
    "\n",
    "This jupyter notebook allows to analyze proteome discover output using exiting data from identified plasma proteins to re-score. "
   ]
  },
  {
   "cell_type": "code",
   "execution_count": 3,
   "metadata": {},
   "outputs": [],
   "source": [
    "import pandas as pd"
   ]
  },
  {
   "cell_type": "markdown",
   "metadata": {},
   "source": [
    "Load the public plasma proteome: \n",
    "\n",
    "**Gen**: Gen accession number\n",
    "**Description**: Protein name\n",
    "**Log_Conc**: Concentration Log2-based \n",
    "**Zscore**: Zscore per proteins\n",
    "**Pvlue**: P value per proteins based on Zscore (probability in a normal distribution)"
   ]
  },
  {
   "cell_type": "code",
   "execution_count": 4,
   "metadata": {},
   "outputs": [],
   "source": [
    "public_plasma_proteome = pd.read_csv(\"data/public-plasma-proteome.csv\")"
   ]
  },
  {
   "cell_type": "markdown",
   "metadata": {},
   "source": [
    "Load internal database of plasma proteins: \n",
    "\n",
    "**Uniprot_Accession**: Uniprot accession \n",
    "**Pvalue**: P value based in the Zscore"
   ]
  },
  {
   "cell_type": "code",
   "execution_count": 5,
   "metadata": {},
   "outputs": [],
   "source": [
    "inhouse_plasma_proteome = pd.read_csv(\"data/custom-plasma-proteome.csv\")"
   ]
  }
 ],
 "metadata": {
  "kernelspec": {
   "display_name": "Python 3",
   "language": "python",
   "name": "python3"
  },
  "language_info": {
   "codemirror_mode": {
    "name": "ipython",
    "version": 3
   },
   "file_extension": ".py",
   "mimetype": "text/x-python",
   "name": "python",
   "nbconvert_exporter": "python",
   "pygments_lexer": "ipython3",
   "version": "3.7.6"
  }
 },
 "nbformat": 4,
 "nbformat_minor": 2
}
